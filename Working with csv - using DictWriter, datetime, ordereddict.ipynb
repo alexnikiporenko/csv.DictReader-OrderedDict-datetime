{
 "cells": [
  {
   "cell_type": "code",
   "execution_count": 21,
   "metadata": {},
   "outputs": [
    {
     "name": "stdout",
     "output_type": "stream",
     "text": [
      "Title,Name,ID,Email,Company,Updated\n",
      "\n",
      "Mr.,\"Clarke, Nita Z.\",16220630-3253,pharetra.Nam@egestashendreritneque.com,Aliquam Nec Enim Institute,01/04/2017\n",
      "\n"
     ]
    },
    {
     "data": {
      "text/plain": [
       "{'Updated': datetime.datetime(2017, 4, 1, 0, 0),\n",
       " 'Title': 'Mr.',\n",
       " 'Name': 'Clarke, Nita Z.',\n",
       " 'ID': '16220630-3253',\n",
       " 'Email': 'pharetra.Nam@egestashendreritneque.com',\n",
       " 'Company': 'Aliquam Nec Enim Institute'}"
      ]
     },
     "execution_count": 21,
     "metadata": {},
     "output_type": "execute_result"
    }
   ],
   "source": [
    "import csv\n",
    "import datetime\n",
    "from collections import OrderedDict\n",
    "\n",
    "# reading the first two lines from the file\n",
    "with open(\"Week 2/PeopleTrainngDate.csv\") as file:\n",
    "    print(file.readline())\n",
    "    print(file.readline())\n",
    "\n",
    "people_training = []\n",
    "\n",
    "with open(\"Week 2/PeopleTrainngDate.csv\") as file:\n",
    "    # using DictReader to convert csv to a dict\n",
    "    # quotechar allows us to ignore commas in quotation marks\n",
    "    reader = csv.DictReader(file, quotechar='\"')\n",
    "    for entry in reader:\n",
    "        # converting dates to datetime objects\n",
    "        # this allows us to sort them\n",
    "        entry['Updated'] = datetime.datetime.strptime(entry['Updated'], \"%d/%m/%Y\")\n",
    "        people_training.append(entry)\n",
    "\n",
    "for i in range(len(people_training)):\n",
    "    # changing each dictionary to an ordered dictionary\n",
    "    # this allows us to move around the order of dictionary keys\n",
    "    people_training[i] = OrderedDict(people_training[i])\n",
    "    people_training[i].move_to_end('Updated', last=False)\n",
    "    people_training[i] = dict(people_training[i])\n",
    "\n",
    "people_training[0]"
   ]
  },
  {
   "cell_type": "code",
   "execution_count": 22,
   "metadata": {},
   "outputs": [
    {
     "name": "stdout",
     "output_type": "stream",
     "text": [
      "05/11/2018,diam.Duis.mi@fringillapurus.net 16200816-7450,,\"Hensley, Martina G.\",Nonummy Consulting\n",
      "\n",
      "28/11/2018,euismod@magnisdisparturient.net 16650329-8280,Mr.,\"Flynn, Noelani S.\",Ac PC\n",
      "\n"
     ]
    },
    {
     "data": {
      "text/plain": [
       "{'Updated': '01/04/2017',\n",
       " 'Title': 'Mr.',\n",
       " 'Name': 'Clarke, Nita Z.',\n",
       " 'ID': '16220630-3253',\n",
       " 'Email': 'pharetra.Nam@egestashendreritneque.com',\n",
       " 'Company': 'Aliquam Nec Enim Institute'}"
      ]
     },
     "execution_count": 22,
     "metadata": {},
     "output_type": "execute_result"
    }
   ],
   "source": [
    "# reading the first two lines from the file\n",
    "with open(\"Week 2/PeopleTrainingDateUpdate.csv\") as file:\n",
    "    print(file.readline())\n",
    "    print(file.readline())\n",
    "\n",
    "people_training_update = []\n",
    "\n",
    "with open(\"Week 2/PeopleTrainingDateUpdate.csv\") as file:\n",
    "    # this time we don't have a header, so we are using the csv.reader rather than DictReader\n",
    "    reader = csv.reader(file, quotechar='\"')\n",
    "    for entry in reader:\n",
    "        # email and ID are not separated with commas, so we need to split them manually\n",
    "        email_ID = entry.pop(1).split(\" \")\n",
    "        updated = email_ID + entry\n",
    "        # converting our list to the dict format used above\n",
    "        entry_dic = {\n",
    "            'Updated': datetime.datetime.strptime(updated[2], \"%d/%m/%Y\"),\n",
    "            'Title': updated[3],\n",
    "            'Name': updated[4],\n",
    "            'ID': updated[1],\n",
    "            'Email': updated[0],\n",
    "            'Company': updated[5],\n",
    "        }\n",
    "        people_training_update.append(entry_dic)\n",
    "\n",
    "complete = people_training + people_training_update\n",
    "\n",
    "# sorting the complete dictionary according to the date\n",
    "complete = sorted(complete, key=lambda x: x['Updated'])\n",
    "\n",
    "# converting the datetime object back to string\n",
    "for entry in complete:\n",
    "    entry['Updated'] = entry['Updated'].strftime(\"%d/%m/%Y\")\n",
    "\n",
    "complete[0]"
   ]
  },
  {
   "cell_type": "code",
   "execution_count": 23,
   "metadata": {},
   "outputs": [],
   "source": [
    "# saving the keys for use in the header\n",
    "keys = complete[0].keys()\n",
    "\n",
    "# saving the full dictionary to a new csv file\n",
    "with open('Week 2/PeopleTrainingDateFINAL.csv', 'w', newline='') as output_file:\n",
    "    # using DictWriter with the file name and keys as the attributes\n",
    "    dict_writer = csv.DictWriter(output_file, keys)\n",
    "    dict_writer.writeheader()\n",
    "    dict_writer.writerows(complete)"
   ]
  }
 ],
 "metadata": {
  "interpreter": {
   "hash": "e245b6e8656557d201be73fbc1d00f8d35efdf4ab03c4356d8952ce09f2d82d2"
  },
  "kernelspec": {
   "display_name": "Python 3.10.1 64-bit",
   "language": "python",
   "name": "python3"
  },
  "language_info": {
   "codemirror_mode": {
    "name": "ipython",
    "version": 3
   },
   "file_extension": ".py",
   "mimetype": "text/x-python",
   "name": "python",
   "nbconvert_exporter": "python",
   "pygments_lexer": "ipython3",
   "version": "3.10.1"
  },
  "orig_nbformat": 4
 },
 "nbformat": 4,
 "nbformat_minor": 2
}
